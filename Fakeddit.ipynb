{
  "nbformat": 4,
  "nbformat_minor": 0,
  "metadata": {
    "kernelspec": {
      "display_name": "Python 3",
      "language": "python",
      "name": "python3"
    },
    "language_info": {
      "codemirror_mode": {
        "name": "ipython",
        "version": 3
      },
      "file_extension": ".py",
      "mimetype": "text/x-python",
      "name": "python",
      "nbconvert_exporter": "python",
      "pygments_lexer": "ipython3",
      "version": "3.8.5"
    },
    "varInspector": {
      "cols": {
        "lenName": 16,
        "lenType": 16,
        "lenVar": 40
      },
      "kernels_config": {
        "python": {
          "delete_cmd_postfix": "",
          "delete_cmd_prefix": "del ",
          "library": "var_list.py",
          "varRefreshCmd": "print(var_dic_list())"
        },
        "r": {
          "delete_cmd_postfix": ") ",
          "delete_cmd_prefix": "rm(",
          "library": "var_list.r",
          "varRefreshCmd": "cat(var_dic_list()) "
        }
      },
      "types_to_exclude": [
        "module",
        "function",
        "builtin_function_or_method",
        "instance",
        "_Feature"
      ],
      "window_display": false
    },
    "colab": {
      "name": "Fakeddit.ipynb",
      "provenance": [],
      "collapsed_sections": [],
      "toc_visible": true
    }
  },
  "cells": [
    {
      "cell_type": "code",
      "metadata": {
        "colab": {
          "base_uri": "https://localhost:8080/"
        },
        "id": "BCRacpGkJNjG",
        "outputId": "bb5fc672-759c-4f1d-d889-7772b9acc612"
      },
      "source": [
        "# mount drive for convenience (stored images here in a folder)\n",
        "from google.colab import drive\n",
        "drive.mount('/content/drive', force_remount=False)"
      ],
      "execution_count": null,
      "outputs": [
        {
          "output_type": "stream",
          "text": [
            "Mounted at /content/drive\n"
          ],
          "name": "stdout"
        }
      ]
    },
    {
      "cell_type": "code",
      "metadata": {
        "id": "cPEYST4doiqo"
      },
      "source": [
        "# !pip install bert-for-tf2"
      ],
      "execution_count": null,
      "outputs": []
    },
    {
      "cell_type": "code",
      "metadata": {
        "ExecuteTime": {
          "end_time": "2021-05-10T06:26:14.001152Z",
          "start_time": "2021-05-10T06:25:40.938264Z"
        },
        "id": "0P6K5R9hJGmJ"
      },
      "source": [
        "# import all necessary libraries\n",
        "import os\n",
        "os.environ[\"NLTK_DATA\"] = \"/content/drive/MyDrive/downloads/nltk\"\n",
        "\n",
        "import sys\n",
        "sys.path.append(\"/content/drive/MyDrive/python3.7_packages/\")\n",
        "\n",
        "import re\n",
        "import string\n",
        "import warnings\n",
        "import numpy as np\n",
        "import pandas as pd\n",
        "import bert\n",
        "import nltk\n",
        "import os\n",
        "import warnings\n",
        "import argparse\n",
        "import bert\n",
        "import requests\n",
        "from PIL import Image\n",
        "from io import BytesIO\n",
        "from nltk.corpus import stopwords\n",
        "from sklearn.preprocessing import LabelBinarizer\n",
        "import tensorflow_hub as hub\n",
        "from tensorflow.keras.layers import *\n",
        "from tensorflow.keras.models import Model, load_model\n",
        "from tensorflow.keras.applications import VGG16\n",
        "stop = stopwords.words(\"english\")\n",
        "warnings.filterwarnings(\"ignore\")\n",
        "\n",
        "\n",
        "stop = stopwords.words(\"english\")\n",
        "warnings.filterwarnings(\"ignore\")\n",
        "pd.set_option(\"display.max_colwidth\", 200)\n",
        "pd.set_option('display.max_columns', None)"
      ],
      "execution_count": null,
      "outputs": []
    },
    {
      "cell_type": "code",
      "metadata": {
        "ExecuteTime": {
          "end_time": "2021-05-10T06:28:38.813312Z",
          "start_time": "2021-05-10T06:27:31.626763Z"
        },
        "id": "Jx-UWwpUJGmS"
      },
      "source": [
        "# load data into pandas dataframes\n",
        "# comments = pd.read_csv(\"/content/drive/MyDrive/Fakeddit/all_comments.tsv/all_comments.tsv\", sep=\"\\t\")\n",
        "multimodal_train = pd.read_csv(\"/content/drive/MyDrive/Fakeddit/multimodal_only_samples-20210510T062706Z-001/multimodal_only_samples/multimodal_train.tsv\", sep=\"\\t\")"
      ],
      "execution_count": null,
      "outputs": []
    },
    {
      "cell_type": "code",
      "metadata": {
        "ExecuteTime": {
          "end_time": "2021-05-10T06:29:37.908043Z",
          "start_time": "2021-05-10T06:29:37.885233Z"
        },
        "colab": {
          "base_uri": "https://localhost:8080/",
          "height": 264
        },
        "id": "PP4MNZ9CJGmT",
        "outputId": "e7bebb74-d7d0-40d9-a726-a10ff779544e"
      },
      "source": [
        "comments.head(2)"
      ],
      "execution_count": null,
      "outputs": [
        {
          "output_type": "execute_result",
          "data": {
            "text/html": [
              "<div>\n",
              "<style scoped>\n",
              "    .dataframe tbody tr th:only-of-type {\n",
              "        vertical-align: middle;\n",
              "    }\n",
              "\n",
              "    .dataframe tbody tr th {\n",
              "        vertical-align: top;\n",
              "    }\n",
              "\n",
              "    .dataframe thead th {\n",
              "        text-align: right;\n",
              "    }\n",
              "</style>\n",
              "<table border=\"1\" class=\"dataframe\">\n",
              "  <thead>\n",
              "    <tr style=\"text-align: right;\">\n",
              "      <th></th>\n",
              "      <th>Unnamed: 0</th>\n",
              "      <th>id</th>\n",
              "      <th>author</th>\n",
              "      <th>body</th>\n",
              "      <th>isTopLevel</th>\n",
              "      <th>parent_id</th>\n",
              "      <th>submission_id</th>\n",
              "      <th>ups</th>\n",
              "    </tr>\n",
              "  </thead>\n",
              "  <tbody>\n",
              "    <tr>\n",
              "      <th>0</th>\n",
              "      <td>0</td>\n",
              "      <td>f4deplg</td>\n",
              "      <td>Haus42</td>\n",
              "      <td>Scroll, scroll, scroll.  Pause.  Scroll back up.  Check which subreddit this article is in.  Nod in approval.  Upvote.  Continue scrolling.</td>\n",
              "      <td>True</td>\n",
              "      <td>t3_dkdml1</td>\n",
              "      <td>dkdml1</td>\n",
              "      <td>162.0</td>\n",
              "    </tr>\n",
              "    <tr>\n",
              "      <th>1</th>\n",
              "      <td>1</td>\n",
              "      <td>f4d79bi</td>\n",
              "      <td>PotatoPrince84</td>\n",
              "      <td>A lot of the people who felt quite strongly about the fake news being spread on Facebook have been pushing for this for a while now, but a lot of critics have raised the valid point that mere mort...</td>\n",
              "      <td>True</td>\n",
              "      <td>t3_dkdml1</td>\n",
              "      <td>dkdml1</td>\n",
              "      <td>84.0</td>\n",
              "    </tr>\n",
              "  </tbody>\n",
              "</table>\n",
              "</div>"
            ],
            "text/plain": [
              "  Unnamed: 0       id          author  \\\n",
              "0          0  f4deplg          Haus42   \n",
              "1          1  f4d79bi  PotatoPrince84   \n",
              "\n",
              "                                                                                                                                                                                                      body  \\\n",
              "0                                                              Scroll, scroll, scroll.  Pause.  Scroll back up.  Check which subreddit this article is in.  Nod in approval.  Upvote.  Continue scrolling.   \n",
              "1  A lot of the people who felt quite strongly about the fake news being spread on Facebook have been pushing for this for a while now, but a lot of critics have raised the valid point that mere mort...   \n",
              "\n",
              "  isTopLevel  parent_id submission_id    ups  \n",
              "0       True  t3_dkdml1        dkdml1  162.0  \n",
              "1       True  t3_dkdml1        dkdml1   84.0  "
            ]
          },
          "metadata": {
            "tags": []
          },
          "execution_count": 22
        }
      ]
    },
    {
      "cell_type": "code",
      "metadata": {
        "ExecuteTime": {
          "end_time": "2021-05-10T06:35:18.915798Z",
          "start_time": "2021-05-10T06:35:18.910640Z"
        },
        "colab": {
          "base_uri": "https://localhost:8080/"
        },
        "id": "d066b59VJGmV",
        "outputId": "82c3ebc1-3f5c-43cd-9526-4a9f8c174379"
      },
      "source": [
        "comments.shape"
      ],
      "execution_count": null,
      "outputs": [
        {
          "output_type": "execute_result",
          "data": {
            "text/plain": [
              "(10697533, 8)"
            ]
          },
          "metadata": {
            "tags": []
          },
          "execution_count": 23
        }
      ]
    },
    {
      "cell_type": "code",
      "metadata": {
        "ExecuteTime": {
          "end_time": "2021-05-10T06:35:56.575534Z",
          "start_time": "2021-05-10T06:35:56.569794Z"
        },
        "colab": {
          "base_uri": "https://localhost:8080/"
        },
        "id": "XZB5JTkSJGmV",
        "outputId": "55723c68-5bc5-4d8d-ee74-e9fa0e7e3a42"
      },
      "source": [
        "multimodal_train.shape"
      ],
      "execution_count": null,
      "outputs": [
        {
          "output_type": "execute_result",
          "data": {
            "text/plain": [
              "(564000, 16)"
            ]
          },
          "metadata": {
            "tags": []
          },
          "execution_count": 24
        }
      ]
    },
    {
      "cell_type": "code",
      "metadata": {
        "ExecuteTime": {
          "end_time": "2021-05-10T06:30:00.893282Z",
          "start_time": "2021-05-10T06:30:00.863298Z"
        },
        "scrolled": true,
        "colab": {
          "base_uri": "https://localhost:8080/",
          "height": 615
        },
        "id": "Ep0r0_Y1JGmW",
        "outputId": "dfa7551e-514f-4291-9740-c1d52c14f21d"
      },
      "source": [
        "multimodal_train.head(5)"
      ],
      "execution_count": null,
      "outputs": [
        {
          "output_type": "execute_result",
          "data": {
            "text/html": [
              "<div>\n",
              "<style scoped>\n",
              "    .dataframe tbody tr th:only-of-type {\n",
              "        vertical-align: middle;\n",
              "    }\n",
              "\n",
              "    .dataframe tbody tr th {\n",
              "        vertical-align: top;\n",
              "    }\n",
              "\n",
              "    .dataframe thead th {\n",
              "        text-align: right;\n",
              "    }\n",
              "</style>\n",
              "<table border=\"1\" class=\"dataframe\">\n",
              "  <thead>\n",
              "    <tr style=\"text-align: right;\">\n",
              "      <th></th>\n",
              "      <th>author</th>\n",
              "      <th>clean_title</th>\n",
              "      <th>created_utc</th>\n",
              "      <th>domain</th>\n",
              "      <th>hasImage</th>\n",
              "      <th>id</th>\n",
              "      <th>image_url</th>\n",
              "      <th>linked_submission_id</th>\n",
              "      <th>num_comments</th>\n",
              "      <th>score</th>\n",
              "      <th>subreddit</th>\n",
              "      <th>title</th>\n",
              "      <th>upvote_ratio</th>\n",
              "      <th>2_way_label</th>\n",
              "      <th>3_way_label</th>\n",
              "      <th>6_way_label</th>\n",
              "    </tr>\n",
              "  </thead>\n",
              "  <tbody>\n",
              "    <tr>\n",
              "      <th>0</th>\n",
              "      <td>Alexithymia</td>\n",
              "      <td>my walgreens offbrand mucinex was engraved with the letters mucinex but in a different order</td>\n",
              "      <td>1.551641e+09</td>\n",
              "      <td>i.imgur.com</td>\n",
              "      <td>True</td>\n",
              "      <td>awxhir</td>\n",
              "      <td>https://external-preview.redd.it/WylDbZrnbvZdBpgfa3ntxYf17CBHndiJWHylVm2j_nY.jpg?width=320&amp;crop=smart&amp;auto=webp&amp;s=449659a10792de4d55c2f27d2176fdc8bc66e72a</td>\n",
              "      <td>NaN</td>\n",
              "      <td>2.0</td>\n",
              "      <td>12</td>\n",
              "      <td>mildlyinteresting</td>\n",
              "      <td>My Walgreens offbrand Mucinex was engraved with the letters Mucinex but in a different order</td>\n",
              "      <td>0.84</td>\n",
              "      <td>1</td>\n",
              "      <td>0</td>\n",
              "      <td>0</td>\n",
              "    </tr>\n",
              "    <tr>\n",
              "      <th>1</th>\n",
              "      <td>VIDCAs17</td>\n",
              "      <td>this concerned sink with a tiny hat</td>\n",
              "      <td>1.534727e+09</td>\n",
              "      <td>i.redd.it</td>\n",
              "      <td>True</td>\n",
              "      <td>98pbid</td>\n",
              "      <td>https://preview.redd.it/wsfx0gp0f5h11.jpg?width=320&amp;crop=smart&amp;auto=webp&amp;s=6267a3ae11e616453e129c58ae34635b98c4ab37</td>\n",
              "      <td>NaN</td>\n",
              "      <td>2.0</td>\n",
              "      <td>119</td>\n",
              "      <td>pareidolia</td>\n",
              "      <td>This concerned sink with a tiny hat</td>\n",
              "      <td>0.99</td>\n",
              "      <td>0</td>\n",
              "      <td>2</td>\n",
              "      <td>2</td>\n",
              "    </tr>\n",
              "    <tr>\n",
              "      <th>2</th>\n",
              "      <td>prometheus1123</td>\n",
              "      <td>hackers leak emails from uae ambassador to us</td>\n",
              "      <td>1.496511e+09</td>\n",
              "      <td>aljazeera.com</td>\n",
              "      <td>True</td>\n",
              "      <td>6f2cy5</td>\n",
              "      <td>https://external-preview.redd.it/6fNhdbc6K1vFAZX95ed-ZMLDlASqmpixvAxmXqHhfHs.jpg?width=320&amp;crop=smart&amp;auto=webp&amp;s=f263f843e91b7dbea1d1157031f7ea0d555186ed</td>\n",
              "      <td>NaN</td>\n",
              "      <td>1.0</td>\n",
              "      <td>44</td>\n",
              "      <td>neutralnews</td>\n",
              "      <td>Hackers leak emails from UAE ambassador to US</td>\n",
              "      <td>0.92</td>\n",
              "      <td>1</td>\n",
              "      <td>0</td>\n",
              "      <td>0</td>\n",
              "    </tr>\n",
              "    <tr>\n",
              "      <th>3</th>\n",
              "      <td>NaN</td>\n",
              "      <td>puppy taking in the view</td>\n",
              "      <td>1.471341e+09</td>\n",
              "      <td>i.imgur.com</td>\n",
              "      <td>True</td>\n",
              "      <td>4xypkv</td>\n",
              "      <td>https://external-preview.redd.it/HLtVNhTR6wtYtnvL8RKfmZFdKQ7tVz42WCiH3jSGiIk.jpg?width=320&amp;crop=smart&amp;auto=webp&amp;s=2d60c452b15d7d86b46b65e06da9a6e42f10d5df</td>\n",
              "      <td>NaN</td>\n",
              "      <td>26.0</td>\n",
              "      <td>250</td>\n",
              "      <td>photoshopbattles</td>\n",
              "      <td>PsBattle: Puppy taking in the view</td>\n",
              "      <td>0.95</td>\n",
              "      <td>1</td>\n",
              "      <td>0</td>\n",
              "      <td>0</td>\n",
              "    </tr>\n",
              "    <tr>\n",
              "      <th>4</th>\n",
              "      <td>3rikR3ith</td>\n",
              "      <td>i found a face in my sheet music too</td>\n",
              "      <td>1.525318e+09</td>\n",
              "      <td>i.redd.it</td>\n",
              "      <td>True</td>\n",
              "      <td>8gnet9</td>\n",
              "      <td>https://preview.redd.it/ri7ut2wn8kv01.jpg?width=320&amp;crop=smart&amp;auto=webp&amp;s=d44a419480c2073a2f0f3fa5f3701b308271331d</td>\n",
              "      <td>NaN</td>\n",
              "      <td>2.0</td>\n",
              "      <td>13</td>\n",
              "      <td>pareidolia</td>\n",
              "      <td>I found a face in my sheet music too!</td>\n",
              "      <td>0.84</td>\n",
              "      <td>0</td>\n",
              "      <td>2</td>\n",
              "      <td>2</td>\n",
              "    </tr>\n",
              "  </tbody>\n",
              "</table>\n",
              "</div>"
            ],
            "text/plain": [
              "           author  \\\n",
              "0     Alexithymia   \n",
              "1        VIDCAs17   \n",
              "2  prometheus1123   \n",
              "3             NaN   \n",
              "4       3rikR3ith   \n",
              "\n",
              "                                                                                    clean_title  \\\n",
              "0  my walgreens offbrand mucinex was engraved with the letters mucinex but in a different order   \n",
              "1                                                           this concerned sink with a tiny hat   \n",
              "2                                                 hackers leak emails from uae ambassador to us   \n",
              "3                                                                      puppy taking in the view   \n",
              "4                                                          i found a face in my sheet music too   \n",
              "\n",
              "    created_utc         domain  hasImage      id  \\\n",
              "0  1.551641e+09    i.imgur.com      True  awxhir   \n",
              "1  1.534727e+09      i.redd.it      True  98pbid   \n",
              "2  1.496511e+09  aljazeera.com      True  6f2cy5   \n",
              "3  1.471341e+09    i.imgur.com      True  4xypkv   \n",
              "4  1.525318e+09      i.redd.it      True  8gnet9   \n",
              "\n",
              "                                                                                                                                                    image_url  \\\n",
              "0  https://external-preview.redd.it/WylDbZrnbvZdBpgfa3ntxYf17CBHndiJWHylVm2j_nY.jpg?width=320&crop=smart&auto=webp&s=449659a10792de4d55c2f27d2176fdc8bc66e72a   \n",
              "1                                         https://preview.redd.it/wsfx0gp0f5h11.jpg?width=320&crop=smart&auto=webp&s=6267a3ae11e616453e129c58ae34635b98c4ab37   \n",
              "2  https://external-preview.redd.it/6fNhdbc6K1vFAZX95ed-ZMLDlASqmpixvAxmXqHhfHs.jpg?width=320&crop=smart&auto=webp&s=f263f843e91b7dbea1d1157031f7ea0d555186ed   \n",
              "3  https://external-preview.redd.it/HLtVNhTR6wtYtnvL8RKfmZFdKQ7tVz42WCiH3jSGiIk.jpg?width=320&crop=smart&auto=webp&s=2d60c452b15d7d86b46b65e06da9a6e42f10d5df   \n",
              "4                                         https://preview.redd.it/ri7ut2wn8kv01.jpg?width=320&crop=smart&auto=webp&s=d44a419480c2073a2f0f3fa5f3701b308271331d   \n",
              "\n",
              "  linked_submission_id  num_comments  score          subreddit  \\\n",
              "0                  NaN           2.0     12  mildlyinteresting   \n",
              "1                  NaN           2.0    119         pareidolia   \n",
              "2                  NaN           1.0     44        neutralnews   \n",
              "3                  NaN          26.0    250   photoshopbattles   \n",
              "4                  NaN           2.0     13         pareidolia   \n",
              "\n",
              "                                                                                          title  \\\n",
              "0  My Walgreens offbrand Mucinex was engraved with the letters Mucinex but in a different order   \n",
              "1                                                           This concerned sink with a tiny hat   \n",
              "2                                                 Hackers leak emails from UAE ambassador to US   \n",
              "3                                                            PsBattle: Puppy taking in the view   \n",
              "4                                                         I found a face in my sheet music too!   \n",
              "\n",
              "   upvote_ratio  2_way_label  3_way_label  6_way_label  \n",
              "0          0.84            1            0            0  \n",
              "1          0.99            0            2            2  \n",
              "2          0.92            1            0            0  \n",
              "3          0.95            1            0            0  \n",
              "4          0.84            0            2            2  "
            ]
          },
          "metadata": {
            "tags": []
          },
          "execution_count": 25
        }
      ]
    },
    {
      "cell_type": "code",
      "metadata": {
        "ExecuteTime": {
          "end_time": "2021-05-10T06:33:29.341329Z",
          "start_time": "2021-05-10T06:33:29.335719Z"
        },
        "scrolled": true,
        "colab": {
          "base_uri": "https://localhost:8080/"
        },
        "id": "9ZSQK2JHJGmW",
        "outputId": "5ae4adb8-48ab-496b-f903-5c88286001f5"
      },
      "source": [
        "multimodal_train.columns"
      ],
      "execution_count": null,
      "outputs": [
        {
          "output_type": "execute_result",
          "data": {
            "text/plain": [
              "Index(['author', 'clean_title', 'created_utc', 'domain', 'hasImage', 'id',\n",
              "       'image_url', 'linked_submission_id', 'num_comments', 'score',\n",
              "       'subreddit', 'title', 'upvote_ratio', '2_way_label', '3_way_label',\n",
              "       '6_way_label'],\n",
              "      dtype='object')"
            ]
          },
          "metadata": {
            "tags": []
          },
          "execution_count": 26
        }
      ]
    },
    {
      "cell_type": "code",
      "metadata": {
        "ExecuteTime": {
          "end_time": "2021-05-10T06:34:44.168467Z",
          "start_time": "2021-05-10T06:34:44.073528Z"
        },
        "scrolled": true,
        "colab": {
          "base_uri": "https://localhost:8080/"
        },
        "id": "w5Kwq9ylJGmX",
        "outputId": "5d42ff01-8d45-4b93-ecc7-bef8ca3362a0"
      },
      "source": [
        "multimodal_train[\"6_way_label\"].value_counts()"
      ],
      "execution_count": null,
      "outputs": [
        {
          "output_type": "execute_result",
          "data": {
            "text/plain": [
              "0    222081\n",
              "4    167857\n",
              "2    107221\n",
              "1     33481\n",
              "5     21576\n",
              "3     11784\n",
              "Name: 6_way_label, dtype: int64"
            ]
          },
          "metadata": {
            "tags": []
          },
          "execution_count": 27
        }
      ]
    },
    {
      "cell_type": "code",
      "metadata": {
        "ExecuteTime": {
          "end_time": "2021-05-10T06:38:34.384658Z",
          "start_time": "2021-05-10T06:37:59.703626Z"
        },
        "id": "yI0yJvgoJGmY"
      },
      "source": [
        "# df = pd.merge(multimodal_train, comments, on=\"id\", how=\"left\")\n",
        "df = multimodal_train"
      ],
      "execution_count": null,
      "outputs": []
    },
    {
      "cell_type": "code",
      "metadata": {
        "ExecuteTime": {
          "end_time": "2021-05-10T06:39:02.754102Z",
          "start_time": "2021-05-10T06:39:02.149227Z"
        },
        "colab": {
          "base_uri": "https://localhost:8080/"
        },
        "id": "JltMXQu0JGmY",
        "outputId": "1d81ce5c-6107-4947-f3eb-a6787d1bd49b"
      },
      "source": [
        "df.shape"
      ],
      "execution_count": null,
      "outputs": [
        {
          "output_type": "execute_result",
          "data": {
            "text/plain": [
              "(564000, 16)"
            ]
          },
          "metadata": {
            "tags": []
          },
          "execution_count": 25
        }
      ]
    },
    {
      "cell_type": "code",
      "metadata": {
        "id": "WprI3X9XS395"
      },
      "source": [
        "# filter df which has image urls\n",
        "df = df[~df[\"image_url\"].isna()]\n",
        "df.reset_index(inplace=True, drop=True)"
      ],
      "execution_count": null,
      "outputs": []
    },
    {
      "cell_type": "code",
      "metadata": {
        "colab": {
          "base_uri": "https://localhost:8080/",
          "height": 615
        },
        "id": "QF3zy_OlTHUz",
        "outputId": "9865db67-93ca-4ada-a764-9543b0702615"
      },
      "source": [
        "df.head()"
      ],
      "execution_count": null,
      "outputs": [
        {
          "output_type": "execute_result",
          "data": {
            "text/html": [
              "<div>\n",
              "<style scoped>\n",
              "    .dataframe tbody tr th:only-of-type {\n",
              "        vertical-align: middle;\n",
              "    }\n",
              "\n",
              "    .dataframe tbody tr th {\n",
              "        vertical-align: top;\n",
              "    }\n",
              "\n",
              "    .dataframe thead th {\n",
              "        text-align: right;\n",
              "    }\n",
              "</style>\n",
              "<table border=\"1\" class=\"dataframe\">\n",
              "  <thead>\n",
              "    <tr style=\"text-align: right;\">\n",
              "      <th></th>\n",
              "      <th>author</th>\n",
              "      <th>clean_title</th>\n",
              "      <th>created_utc</th>\n",
              "      <th>domain</th>\n",
              "      <th>hasImage</th>\n",
              "      <th>id</th>\n",
              "      <th>image_url</th>\n",
              "      <th>linked_submission_id</th>\n",
              "      <th>num_comments</th>\n",
              "      <th>score</th>\n",
              "      <th>subreddit</th>\n",
              "      <th>title</th>\n",
              "      <th>upvote_ratio</th>\n",
              "      <th>2_way_label</th>\n",
              "      <th>3_way_label</th>\n",
              "      <th>6_way_label</th>\n",
              "    </tr>\n",
              "  </thead>\n",
              "  <tbody>\n",
              "    <tr>\n",
              "      <th>0</th>\n",
              "      <td>Alexithymia</td>\n",
              "      <td>my walgreens offbrand mucinex was engraved with the letters mucinex but in a different order</td>\n",
              "      <td>1.551641e+09</td>\n",
              "      <td>i.imgur.com</td>\n",
              "      <td>True</td>\n",
              "      <td>awxhir</td>\n",
              "      <td>https://external-preview.redd.it/WylDbZrnbvZdBpgfa3ntxYf17CBHndiJWHylVm2j_nY.jpg?width=320&amp;crop=smart&amp;auto=webp&amp;s=449659a10792de4d55c2f27d2176fdc8bc66e72a</td>\n",
              "      <td>NaN</td>\n",
              "      <td>2.0</td>\n",
              "      <td>12</td>\n",
              "      <td>mildlyinteresting</td>\n",
              "      <td>My Walgreens offbrand Mucinex was engraved with the letters Mucinex but in a different order</td>\n",
              "      <td>0.84</td>\n",
              "      <td>1</td>\n",
              "      <td>0</td>\n",
              "      <td>0</td>\n",
              "    </tr>\n",
              "    <tr>\n",
              "      <th>1</th>\n",
              "      <td>VIDCAs17</td>\n",
              "      <td>this concerned sink with a tiny hat</td>\n",
              "      <td>1.534727e+09</td>\n",
              "      <td>i.redd.it</td>\n",
              "      <td>True</td>\n",
              "      <td>98pbid</td>\n",
              "      <td>https://preview.redd.it/wsfx0gp0f5h11.jpg?width=320&amp;crop=smart&amp;auto=webp&amp;s=6267a3ae11e616453e129c58ae34635b98c4ab37</td>\n",
              "      <td>NaN</td>\n",
              "      <td>2.0</td>\n",
              "      <td>119</td>\n",
              "      <td>pareidolia</td>\n",
              "      <td>This concerned sink with a tiny hat</td>\n",
              "      <td>0.99</td>\n",
              "      <td>0</td>\n",
              "      <td>2</td>\n",
              "      <td>2</td>\n",
              "    </tr>\n",
              "    <tr>\n",
              "      <th>2</th>\n",
              "      <td>prometheus1123</td>\n",
              "      <td>hackers leak emails from uae ambassador to us</td>\n",
              "      <td>1.496511e+09</td>\n",
              "      <td>aljazeera.com</td>\n",
              "      <td>True</td>\n",
              "      <td>6f2cy5</td>\n",
              "      <td>https://external-preview.redd.it/6fNhdbc6K1vFAZX95ed-ZMLDlASqmpixvAxmXqHhfHs.jpg?width=320&amp;crop=smart&amp;auto=webp&amp;s=f263f843e91b7dbea1d1157031f7ea0d555186ed</td>\n",
              "      <td>NaN</td>\n",
              "      <td>1.0</td>\n",
              "      <td>44</td>\n",
              "      <td>neutralnews</td>\n",
              "      <td>Hackers leak emails from UAE ambassador to US</td>\n",
              "      <td>0.92</td>\n",
              "      <td>1</td>\n",
              "      <td>0</td>\n",
              "      <td>0</td>\n",
              "    </tr>\n",
              "    <tr>\n",
              "      <th>3</th>\n",
              "      <td>NaN</td>\n",
              "      <td>puppy taking in the view</td>\n",
              "      <td>1.471341e+09</td>\n",
              "      <td>i.imgur.com</td>\n",
              "      <td>True</td>\n",
              "      <td>4xypkv</td>\n",
              "      <td>https://external-preview.redd.it/HLtVNhTR6wtYtnvL8RKfmZFdKQ7tVz42WCiH3jSGiIk.jpg?width=320&amp;crop=smart&amp;auto=webp&amp;s=2d60c452b15d7d86b46b65e06da9a6e42f10d5df</td>\n",
              "      <td>NaN</td>\n",
              "      <td>26.0</td>\n",
              "      <td>250</td>\n",
              "      <td>photoshopbattles</td>\n",
              "      <td>PsBattle: Puppy taking in the view</td>\n",
              "      <td>0.95</td>\n",
              "      <td>1</td>\n",
              "      <td>0</td>\n",
              "      <td>0</td>\n",
              "    </tr>\n",
              "    <tr>\n",
              "      <th>4</th>\n",
              "      <td>3rikR3ith</td>\n",
              "      <td>i found a face in my sheet music too</td>\n",
              "      <td>1.525318e+09</td>\n",
              "      <td>i.redd.it</td>\n",
              "      <td>True</td>\n",
              "      <td>8gnet9</td>\n",
              "      <td>https://preview.redd.it/ri7ut2wn8kv01.jpg?width=320&amp;crop=smart&amp;auto=webp&amp;s=d44a419480c2073a2f0f3fa5f3701b308271331d</td>\n",
              "      <td>NaN</td>\n",
              "      <td>2.0</td>\n",
              "      <td>13</td>\n",
              "      <td>pareidolia</td>\n",
              "      <td>I found a face in my sheet music too!</td>\n",
              "      <td>0.84</td>\n",
              "      <td>0</td>\n",
              "      <td>2</td>\n",
              "      <td>2</td>\n",
              "    </tr>\n",
              "  </tbody>\n",
              "</table>\n",
              "</div>"
            ],
            "text/plain": [
              "           author  \\\n",
              "0     Alexithymia   \n",
              "1        VIDCAs17   \n",
              "2  prometheus1123   \n",
              "3             NaN   \n",
              "4       3rikR3ith   \n",
              "\n",
              "                                                                                    clean_title  \\\n",
              "0  my walgreens offbrand mucinex was engraved with the letters mucinex but in a different order   \n",
              "1                                                           this concerned sink with a tiny hat   \n",
              "2                                                 hackers leak emails from uae ambassador to us   \n",
              "3                                                                      puppy taking in the view   \n",
              "4                                                          i found a face in my sheet music too   \n",
              "\n",
              "    created_utc         domain  hasImage      id  \\\n",
              "0  1.551641e+09    i.imgur.com      True  awxhir   \n",
              "1  1.534727e+09      i.redd.it      True  98pbid   \n",
              "2  1.496511e+09  aljazeera.com      True  6f2cy5   \n",
              "3  1.471341e+09    i.imgur.com      True  4xypkv   \n",
              "4  1.525318e+09      i.redd.it      True  8gnet9   \n",
              "\n",
              "                                                                                                                                                    image_url  \\\n",
              "0  https://external-preview.redd.it/WylDbZrnbvZdBpgfa3ntxYf17CBHndiJWHylVm2j_nY.jpg?width=320&crop=smart&auto=webp&s=449659a10792de4d55c2f27d2176fdc8bc66e72a   \n",
              "1                                         https://preview.redd.it/wsfx0gp0f5h11.jpg?width=320&crop=smart&auto=webp&s=6267a3ae11e616453e129c58ae34635b98c4ab37   \n",
              "2  https://external-preview.redd.it/6fNhdbc6K1vFAZX95ed-ZMLDlASqmpixvAxmXqHhfHs.jpg?width=320&crop=smart&auto=webp&s=f263f843e91b7dbea1d1157031f7ea0d555186ed   \n",
              "3  https://external-preview.redd.it/HLtVNhTR6wtYtnvL8RKfmZFdKQ7tVz42WCiH3jSGiIk.jpg?width=320&crop=smart&auto=webp&s=2d60c452b15d7d86b46b65e06da9a6e42f10d5df   \n",
              "4                                         https://preview.redd.it/ri7ut2wn8kv01.jpg?width=320&crop=smart&auto=webp&s=d44a419480c2073a2f0f3fa5f3701b308271331d   \n",
              "\n",
              "  linked_submission_id  num_comments  score          subreddit  \\\n",
              "0                  NaN           2.0     12  mildlyinteresting   \n",
              "1                  NaN           2.0    119         pareidolia   \n",
              "2                  NaN           1.0     44        neutralnews   \n",
              "3                  NaN          26.0    250   photoshopbattles   \n",
              "4                  NaN           2.0     13         pareidolia   \n",
              "\n",
              "                                                                                          title  \\\n",
              "0  My Walgreens offbrand Mucinex was engraved with the letters Mucinex but in a different order   \n",
              "1                                                           This concerned sink with a tiny hat   \n",
              "2                                                 Hackers leak emails from UAE ambassador to US   \n",
              "3                                                            PsBattle: Puppy taking in the view   \n",
              "4                                                         I found a face in my sheet music too!   \n",
              "\n",
              "   upvote_ratio  2_way_label  3_way_label  6_way_label  \n",
              "0          0.84            1            0            0  \n",
              "1          0.99            0            2            2  \n",
              "2          0.92            1            0            0  \n",
              "3          0.95            1            0            0  \n",
              "4          0.84            0            2            2  "
            ]
          },
          "metadata": {
            "tags": []
          },
          "execution_count": 27
        }
      ]
    },
    {
      "cell_type": "code",
      "metadata": {
        "ExecuteTime": {
          "end_time": "2021-05-10T06:41:35.385090Z",
          "start_time": "2021-05-10T06:41:35.233298Z"
        },
        "scrolled": true,
        "id": "RgN24qHnJGmZ"
      },
      "source": [
        "# df[~df[\"body\"].isna()]"
      ],
      "execution_count": null,
      "outputs": []
    },
    {
      "cell_type": "code",
      "metadata": {
        "id": "UCPYdJtWUuYL"
      },
      "source": [
        "# save images to the desired folder\n",
        "def save_images_to_folder(image_urls, names, folder_path, extension):\n",
        "    \n",
        "    not_available = []\n",
        "    if not os.path.exists(folder_path):\n",
        "        os.makedirs(folder_path)\n",
        "        \n",
        "    for i in range(len(image_urls)):\n",
        "        \n",
        "        file_name = \"{}.{}\".format(names[i], extension)\n",
        "        file_name = os.path.join(folder_path, file_name)\n",
        "\n",
        "        try:\n",
        "          image = requests.get(image_urls[i]).content\n",
        "          image = Image.open(BytesIO(image)).convert(\"RGB\")\n",
        "          image.save(file_name)\n",
        "\n",
        "        except Exception as e:\n",
        "          not_available.append(i)\n",
        "    \n",
        "    return not_available"
      ],
      "execution_count": null,
      "outputs": []
    },
    {
      "cell_type": "code",
      "metadata": {
        "id": "tB9jK_gBVHuM"
      },
      "source": [
        "image_folder = \"/content/drive/MyDrive/Fakeddit/multimodal_only_samples-20210510T062706Z-001/images\"\n",
        "# not_found = save_images_to_folder(df[\"image_url\"].tolist()[:1000], df[\"id\"].tolist()[:1000], image_folder, \"jpg\")"
      ],
      "execution_count": null,
      "outputs": []
    },
    {
      "cell_type": "code",
      "metadata": {
        "id": "G8IVx-3vbw1C"
      },
      "source": [
        "# load the image and preprocess it\n",
        "\n",
        "images = []\n",
        "indices = []\n",
        "for i in os.listdir(image_folder)[:1000]:\n",
        "  image_path = os.path.join(folder, i)\n",
        "  image = load_img(image_path, target_size=(224, 224, 3))\n",
        "  image = img_to_array(image)\n",
        "\n",
        "  images.append(image)\n",
        "  indices.append(i.split(\"_\")[1].split(\".\")[0])\n",
        "\n",
        "indices = list(map(int, indices))\n",
        "images = np.array(images)\n",
        "images.shape"
      ],
      "execution_count": null,
      "outputs": []
    },
    {
      "cell_type": "code",
      "metadata": {
        "id": "NDq-I8Qbi8FS"
      },
      "source": [
        "# create train df\n",
        "train_df = df.iloc[indices]\n",
        "train_df.reset_index(inplace=True, drop=True)"
      ],
      "execution_count": null,
      "outputs": []
    },
    {
      "cell_type": "code",
      "metadata": {
        "id": "0vFQtdT5jX6R"
      },
      "source": [
        "# num labels for multi class classification\n",
        "num_labels = len(train_df[\"6_way_label\"].value_counts())\n",
        "num_labels"
      ],
      "execution_count": null,
      "outputs": []
    },
    {
      "cell_type": "code",
      "metadata": {
        "id": "4yEB3Bg3jd35"
      },
      "source": [
        "one_hot = LabelBinarizer().fit(train_df[\"6_way_label\"].unique())\n",
        "labels = one_hot.fit_transform(train_df[\"6_way_label\"])"
      ],
      "execution_count": null,
      "outputs": []
    },
    {
      "cell_type": "markdown",
      "metadata": {
        "id": "vgfek-WqJGma"
      },
      "source": [
        "### BERT EMBEDDINGS"
      ]
    },
    {
      "cell_type": "code",
      "metadata": {
        "ExecuteTime": {
          "end_time": "2021-05-10T06:42:41.860167Z",
          "start_time": "2021-05-10T06:42:41.643833Z"
        },
        "id": "eUEPimZtJGma"
      },
      "source": [
        "# function to encode texts into bert embeddings\n",
        "def bert_encode(tokenizer, bert_layer, texts, max_len, mode=\"pooled\"):\n",
        "\n",
        "    def convert_tokens(tokenizer, text, max_len):\n",
        "\n",
        "        tokens = tokenizer.convert_tokens_to_ids(tokenizer.tokenize(text))\n",
        "\n",
        "        if len(tokens) <= max_len - 2:\n",
        "            tokens.append(tokenizer.convert_tokens_to_ids([\"[SEP]\"])[0])\n",
        "        else:\n",
        "            tokens = tokens[:max_len - 2] + tokenizer.convert_tokens_to_ids([\"[SEP]\"])\n",
        "\n",
        "        return tokens\n",
        "    \n",
        "    sentence = tf.ragged.constant([convert_tokens(tokenizer, i, max_len) for i in texts])\n",
        "    cls_token = [tokenizer.convert_tokens_to_ids([\"[CLS]\"])] * len(texts)\n",
        "    input_word = tf.concat([cls_token, sentence], axis=-1)\n",
        "\n",
        "    mask = tf.ones_like(input_word).to_tensor()\n",
        "    type_id = tf.zeros_like(input_word).to_tensor()\n",
        "\n",
        "    inputs = {\n",
        "    'input_word_ids': input_word.to_tensor(),\n",
        "    'input_mask': mask,\n",
        "    'input_type_ids': type_id}\n",
        "\n",
        "    bert_embeddings = bert_layer(inputs)\n",
        "\n",
        "    if mode == \"pooled\":\n",
        "        return bert_embeddings[\"pooled_output\"]\n",
        "\n",
        "    else:\n",
        "        return bert_embeddings[\"sequence_output\"]"
      ],
      "execution_count": null,
      "outputs": []
    },
    {
      "cell_type": "code",
      "metadata": {
        "ExecuteTime": {
          "end_time": "2021-05-10T06:43:21.360339Z",
          "start_time": "2021-05-10T06:42:44.078632Z"
        },
        "id": "nXhhCo9XJGmb",
        "colab": {
          "base_uri": "https://localhost:8080/"
        },
        "outputId": "d5c7ab0a-48c1-4bea-a79c-30596d57f8d5"
      },
      "source": [
        "# load the small bert model and configure it\n",
        "bert_layer = hub.KerasLayer(\"https://tfhub.dev/tensorflow/small_bert/bert_en_uncased_L-2_H-128_A-2/2\", trainable=False)\n",
        "bert_tokenizer = bert.bert_tokenization.FullTokenizer\n",
        "vocabulary_file = bert_layer.resolved_object.vocab_file.asset_path.numpy()\n",
        "to_lower_case = bert_layer.resolved_object.do_lower_case.numpy()\n",
        "tokenizer = bert_tokenizer(vocabulary_file, to_lower_case)"
      ],
      "execution_count": null,
      "outputs": [
        {
          "output_type": "stream",
          "text": [
            "INFO:absl:Using /tmp/tfhub_modules to cache modules.\n",
            "INFO:absl:Downloading TF-Hub Module 'https://tfhub.dev/tensorflow/small_bert/bert_en_uncased_L-2_H-128_A-2/2'.\n",
            "INFO:absl:Downloaded https://tfhub.dev/tensorflow/small_bert/bert_en_uncased_L-2_H-128_A-2/2, Total size: 19.27MB\n",
            "INFO:absl:Downloaded TF-Hub Module 'https://tfhub.dev/tensorflow/small_bert/bert_en_uncased_L-2_H-128_A-2/2'.\n"
          ],
          "name": "stderr"
        }
      ]
    },
    {
      "cell_type": "code",
      "metadata": {
        "ExecuteTime": {
          "end_time": "2021-05-10T06:55:08.211144Z",
          "start_time": "2021-05-10T06:55:08.159836Z"
        },
        "id": "eTVHW27qJGmc",
        "colab": {
          "base_uri": "https://localhost:8080/"
        },
        "outputId": "9395736c-8dd4-4a42-862e-6c147c01c9bf"
      },
      "source": [
        "# embeddings created for the clean title column in train_df\n",
        "bert_embeddings = bert_encode(tokenizer, bert_layer, train_df[\"clean_title\"].tolist(), max_len=300, mode=\"sequence\")\n",
        "bert_embeddings.shape"
      ],
      "execution_count": null,
      "outputs": [
        {
          "output_type": "execute_result",
          "data": {
            "text/plain": [
              "TensorShape([1000, 52, 128])"
            ]
          },
          "metadata": {
            "tags": []
          },
          "execution_count": 42
        }
      ]
    },
    {
      "cell_type": "code",
      "metadata": {
        "ExecuteTime": {
          "end_time": "2021-05-10T07:04:13.285393Z",
          "start_time": "2021-05-10T07:04:13.192189Z"
        },
        "id": "6XAlh3kQJGmd"
      },
      "source": [
        "# function to build deep learning model\n",
        "def classification_model(max_len, num_labels):\n",
        "    \n",
        "    # text model\n",
        "    text_input = Input(shape=(max_len, 128, ))\n",
        "    layer = Bidirectional(LSTM(64, return_sequences=True))(text_input)\n",
        "    layer = Bidirectional(LSTM(32))(layer)\n",
        "    text_flat = Flatten()(layer)\n",
        "\n",
        "    # image model\n",
        "    vgg_16 = VGG16(include_top=False, weights=\"imagenet\", input_shape=(224, 224, 3))\n",
        "    vgg_16.trainable = False\n",
        "    vgg_output = vgg_16.output\n",
        "    image_flat = Flatten()(vgg_output)\n",
        "    image_output = Dense(64, activation=\"relu\")(image_flat)\n",
        "\n",
        "    # concatenate the inputs to form a single flattened vector\n",
        "    final_input = Concatenate(axis=1)([text_flat, image_output])\n",
        "    dense = Dense(32, activation=\"relu\")(final_input)\n",
        "    output = Dense(num_labels, activation=\"softmax\")(dense)\n",
        "    \n",
        "    # return final model\n",
        "    model = Model(inputs=[text_input, vgg_16.input], outputs=output)\n",
        "    return model"
      ],
      "execution_count": null,
      "outputs": []
    },
    {
      "cell_type": "code",
      "metadata": {
        "ExecuteTime": {
          "end_time": "2021-05-10T07:04:51.049596Z",
          "start_time": "2021-05-10T07:04:15.368425Z"
        },
        "id": "LL1BX812JGmd",
        "colab": {
          "base_uri": "https://localhost:8080/"
        },
        "outputId": "f47da891-46ea-4497-979d-e2fa22240cfb"
      },
      "source": [
        "# create and compile model\n",
        "model = classification_model(bert_embeddings.shape[1], num_labels)\n",
        "model.compile(loss=\"categorical_crossentropy\", optimizer=\"adam\", metrics=\"accuracy\")"
      ],
      "execution_count": null,
      "outputs": [
        {
          "output_type": "stream",
          "text": [
            "text output: KerasTensor(type_spec=TensorSpec(shape=(None, 64), dtype=tf.float32, name=None), name='flatten/Reshape:0', description=\"created by layer 'flatten'\")\n",
            "Downloading data from https://storage.googleapis.com/tensorflow/keras-applications/vgg16/vgg16_weights_tf_dim_ordering_tf_kernels_notop.h5\n",
            "58892288/58889256 [==============================] - 0s 0us/step\n"
          ],
          "name": "stdout"
        }
      ]
    },
    {
      "cell_type": "code",
      "metadata": {
        "ExecuteTime": {
          "end_time": "2021-05-10T06:55:57.556560Z",
          "start_time": "2021-05-10T06:55:57.552344Z"
        },
        "id": "99r1S9cTJGme",
        "colab": {
          "base_uri": "https://localhost:8080/"
        },
        "outputId": "9e3a49af-ea54-4823-d945-ee64c9ddad4f"
      },
      "source": [
        "model.summary()"
      ],
      "execution_count": null,
      "outputs": [
        {
          "output_type": "stream",
          "text": [
            "Model: \"model\"\n",
            "__________________________________________________________________________________________________\n",
            "Layer (type)                    Output Shape         Param #     Connected to                     \n",
            "==================================================================================================\n",
            "input_2 (InputLayer)            [(None, 224, 224, 3) 0                                            \n",
            "__________________________________________________________________________________________________\n",
            "block1_conv1 (Conv2D)           (None, 224, 224, 64) 1792        input_2[0][0]                    \n",
            "__________________________________________________________________________________________________\n",
            "block1_conv2 (Conv2D)           (None, 224, 224, 64) 36928       block1_conv1[0][0]               \n",
            "__________________________________________________________________________________________________\n",
            "block1_pool (MaxPooling2D)      (None, 112, 112, 64) 0           block1_conv2[0][0]               \n",
            "__________________________________________________________________________________________________\n",
            "block2_conv1 (Conv2D)           (None, 112, 112, 128 73856       block1_pool[0][0]                \n",
            "__________________________________________________________________________________________________\n",
            "block2_conv2 (Conv2D)           (None, 112, 112, 128 147584      block2_conv1[0][0]               \n",
            "__________________________________________________________________________________________________\n",
            "block2_pool (MaxPooling2D)      (None, 56, 56, 128)  0           block2_conv2[0][0]               \n",
            "__________________________________________________________________________________________________\n",
            "block3_conv1 (Conv2D)           (None, 56, 56, 256)  295168      block2_pool[0][0]                \n",
            "__________________________________________________________________________________________________\n",
            "block3_conv2 (Conv2D)           (None, 56, 56, 256)  590080      block3_conv1[0][0]               \n",
            "__________________________________________________________________________________________________\n",
            "block3_conv3 (Conv2D)           (None, 56, 56, 256)  590080      block3_conv2[0][0]               \n",
            "__________________________________________________________________________________________________\n",
            "block3_pool (MaxPooling2D)      (None, 28, 28, 256)  0           block3_conv3[0][0]               \n",
            "__________________________________________________________________________________________________\n",
            "block4_conv1 (Conv2D)           (None, 28, 28, 512)  1180160     block3_pool[0][0]                \n",
            "__________________________________________________________________________________________________\n",
            "block4_conv2 (Conv2D)           (None, 28, 28, 512)  2359808     block4_conv1[0][0]               \n",
            "__________________________________________________________________________________________________\n",
            "block4_conv3 (Conv2D)           (None, 28, 28, 512)  2359808     block4_conv2[0][0]               \n",
            "__________________________________________________________________________________________________\n",
            "block4_pool (MaxPooling2D)      (None, 14, 14, 512)  0           block4_conv3[0][0]               \n",
            "__________________________________________________________________________________________________\n",
            "block5_conv1 (Conv2D)           (None, 14, 14, 512)  2359808     block4_pool[0][0]                \n",
            "__________________________________________________________________________________________________\n",
            "block5_conv2 (Conv2D)           (None, 14, 14, 512)  2359808     block5_conv1[0][0]               \n",
            "__________________________________________________________________________________________________\n",
            "input_1 (InputLayer)            [(None, 52, 128)]    0                                            \n",
            "__________________________________________________________________________________________________\n",
            "block5_conv3 (Conv2D)           (None, 14, 14, 512)  2359808     block5_conv2[0][0]               \n",
            "__________________________________________________________________________________________________\n",
            "bidirectional (Bidirectional)   (None, 52, 128)      98816       input_1[0][0]                    \n",
            "__________________________________________________________________________________________________\n",
            "block5_pool (MaxPooling2D)      (None, 7, 7, 512)    0           block5_conv3[0][0]               \n",
            "__________________________________________________________________________________________________\n",
            "bidirectional_1 (Bidirectional) (None, 64)           41216       bidirectional[0][0]              \n",
            "__________________________________________________________________________________________________\n",
            "flatten_1 (Flatten)             (None, 25088)        0           block5_pool[0][0]                \n",
            "__________________________________________________________________________________________________\n",
            "flatten (Flatten)               (None, 64)           0           bidirectional_1[0][0]            \n",
            "__________________________________________________________________________________________________\n",
            "dense (Dense)                   (None, 64)           1605696     flatten_1[0][0]                  \n",
            "__________________________________________________________________________________________________\n",
            "concatenate (Concatenate)       (None, 128)          0           flatten[0][0]                    \n",
            "                                                                 dense[0][0]                      \n",
            "__________________________________________________________________________________________________\n",
            "dense_1 (Dense)                 (None, 32)           4128        concatenate[0][0]                \n",
            "__________________________________________________________________________________________________\n",
            "dense_2 (Dense)                 (None, 6)            198         dense_1[0][0]                    \n",
            "==================================================================================================\n",
            "Total params: 16,464,742\n",
            "Trainable params: 1,750,054\n",
            "Non-trainable params: 14,714,688\n",
            "__________________________________________________________________________________________________\n"
          ],
          "name": "stdout"
        }
      ]
    },
    {
      "cell_type": "code",
      "metadata": {
        "id": "fK_gyu1cJGme",
        "colab": {
          "base_uri": "https://localhost:8080/"
        },
        "outputId": "bb96e61e-f9cf-4fd8-c645-c21f93acae26"
      },
      "source": [
        "# train the model on the dataset\n",
        "train = model.fit(x=[bert_embeddings, images], y=labels, epochs=10, verbose=True, batch_size=128, validation_split=0.2)"
      ],
      "execution_count": null,
      "outputs": [
        {
          "output_type": "stream",
          "text": [
            "Epoch 1/10\n",
            "7/7 [==============================] - 4s 595ms/step - loss: 2.3814 - accuracy: 0.6375 - val_loss: 4.7439 - val_accuracy: 0.3650\n",
            "Epoch 2/10\n",
            "7/7 [==============================] - 4s 599ms/step - loss: 1.1158 - accuracy: 0.7550 - val_loss: 4.8541 - val_accuracy: 0.4800\n",
            "Epoch 3/10\n",
            "7/7 [==============================] - 4s 603ms/step - loss: 0.4213 - accuracy: 0.8988 - val_loss: 4.2275 - val_accuracy: 0.4200\n",
            "Epoch 4/10\n",
            "7/7 [==============================] - 4s 610ms/step - loss: 0.2279 - accuracy: 0.9287 - val_loss: 4.5364 - val_accuracy: 0.4750\n",
            "Epoch 5/10\n",
            "7/7 [==============================] - 4s 604ms/step - loss: 0.1661 - accuracy: 0.9688 - val_loss: 5.1967 - val_accuracy: 0.4800\n",
            "Epoch 6/10\n",
            "7/7 [==============================] - 4s 612ms/step - loss: 0.0890 - accuracy: 0.9887 - val_loss: 4.8181 - val_accuracy: 0.4800\n",
            "Epoch 7/10\n",
            "7/7 [==============================] - 4s 619ms/step - loss: 0.0340 - accuracy: 0.9925 - val_loss: 4.7103 - val_accuracy: 0.4550\n",
            "Epoch 8/10\n",
            "7/7 [==============================] - 4s 624ms/step - loss: 0.0456 - accuracy: 0.9875 - val_loss: 4.8434 - val_accuracy: 0.4900\n",
            "Epoch 9/10\n",
            "7/7 [==============================] - 4s 632ms/step - loss: 0.0357 - accuracy: 0.9887 - val_loss: 4.9449 - val_accuracy: 0.4850\n",
            "Epoch 10/10\n",
            "7/7 [==============================] - 4s 633ms/step - loss: 0.0186 - accuracy: 0.9937 - val_loss: 5.0242 - val_accuracy: 0.4850\n"
          ],
          "name": "stdout"
        }
      ]
    },
    {
      "cell_type": "markdown",
      "metadata": {
        "id": "scawnr4egtQN"
      },
      "source": [
        "## TENSORFLOW DATA PIPILINE"
      ]
    },
    {
      "cell_type": "code",
      "metadata": {
        "id": "jcfnjxlA4wUM"
      },
      "source": [
        "# text file and images locations\n",
        "text_path = \"/content/drive/MyDrive/Fakeddit/multimodal_only_samples-20210510T062706Z-001/multimodal_only_samples/multimodal_train.tsv\"\n",
        "image_folder = \"/content/drive/MyDrive/Fakeddit/multimodal_only_samples-20210510T062706Z-001/images\""
      ],
      "execution_count": null,
      "outputs": []
    },
    {
      "cell_type": "code",
      "metadata": {
        "id": "eNBKtnm9f_dA"
      },
      "source": [
        "# initialize hyperparameters\n",
        "batch_size = 128\n",
        "epochs = 10\n",
        "num_labels = 6\n",
        "sample_count = 500"
      ],
      "execution_count": null,
      "outputs": []
    },
    {
      "cell_type": "code",
      "metadata": {
        "id": "hZVzzCyXjcQE"
      },
      "source": [
        "# read the text data into Tensorflow Data API \n",
        "data = tf.data.experimental.make_csv_dataset(text_path, batch_size=1, select_columns=[\"clean_title\", \"id\", \"image_url\", \"num_comments\", \"6_way_label\"], field_delim=\"\\t\", shuffle=False)"
      ],
      "execution_count": null,
      "outputs": []
    },
    {
      "cell_type": "code",
      "metadata": {
        "id": "Pk2_9iyKA_WA"
      },
      "source": [
        "data = data.take(sample_count).filter(lambda x: tf.math.reduce_all(tf.math.not_equal(x[\"image_url\"], \"\")))"
      ],
      "execution_count": null,
      "outputs": []
    },
    {
      "cell_type": "code",
      "metadata": {
        "id": "dcVzB4pbcsG2"
      },
      "source": [
        "# function to parse images\n",
        "def parse_image(filename):\n",
        "  \n",
        "  img = tf.io.read_file(filename)\n",
        "  img = tf.image.decode_jpeg(img, channels=3)\n",
        "  img =  tf.image.resize(img, [224, 224])\n",
        "\n",
        "  return img"
      ],
      "execution_count": null,
      "outputs": []
    },
    {
      "cell_type": "code",
      "metadata": {
        "id": "3kJ0EetPcsq8"
      },
      "source": [
        "# get images and their directories\n",
        "images_path = data.map(lambda x: x[\"id\"])\n",
        "images_path = images_path.map(lambda x: tf.strings.join([image_folder, \"/\", x, \".jpg\"])[0])\n",
        "images = images_path.map(parse_image)"
      ],
      "execution_count": null,
      "outputs": []
    },
    {
      "cell_type": "code",
      "metadata": {
        "id": "ckczM2N1d88z"
      },
      "source": [
        "labels = data.map(lambda x: x[\"6_way_label\"])\n",
        "labels = labels.map(lambda x: tf.one_hot(x, num_labels))\n",
        "labels = labels.map(lambda x: tf.squeeze(x, axis=0))"
      ],
      "execution_count": null,
      "outputs": []
    },
    {
      "cell_type": "code",
      "metadata": {
        "colab": {
          "base_uri": "https://localhost:8080/"
        },
        "id": "jCAc4IbKtF6a",
        "outputId": "254f968b-2f6b-43af-df79-f1285708e8f4"
      },
      "source": [
        "# sanity check for one hot encode\n",
        "for i in labels.take(1):\n",
        "  print(i)"
      ],
      "execution_count": null,
      "outputs": [
        {
          "output_type": "stream",
          "text": [
            "tf.Tensor([1. 0. 0. 0. 0. 0.], shape=(6,), dtype=float32)\n"
          ],
          "name": "stdout"
        }
      ]
    },
    {
      "cell_type": "code",
      "metadata": {
        "id": "nU9wIFLJuoie"
      },
      "source": [
        "# function to encode texts into bert embeddings\n",
        "def bert_encode_modified(tokenizer, data, bert_layer, max_len, mode=\"sequence\"):\n",
        "\n",
        "    def convert_tokens(tokenizer, text, max_len):\n",
        "\n",
        "        tokens = tokenizer.convert_tokens_to_ids(tokenizer.tokenize(text))\n",
        "\n",
        "        if len(tokens) <= max_len - 2:\n",
        "            tokens.append(tokenizer.convert_tokens_to_ids([\"[SEP]\"])[0])\n",
        "        else:\n",
        "            tokens = tokens[:max_len - 2] + tokenizer.convert_tokens_to_ids([\"[SEP]\"])\n",
        "\n",
        "        return tokens\n",
        "    sentence = tf.ragged.constant([convert_tokens(tokenizer, s[\"clean_title\"].numpy()[0], max_len) for s in data])\n",
        "    cls_token = [tokenizer.convert_tokens_to_ids([\"[CLS]\"])] * sentence.shape[0]\n",
        "    input_word = tf.concat([cls_token, sentence], axis=-1)\n",
        "\n",
        "    mask = tf.ones_like(input_word).to_tensor()\n",
        "    type_id = tf.zeros_like(input_word).to_tensor()\n",
        "\n",
        "    inputs = {\n",
        "    'input_word_ids': input_word.to_tensor(),\n",
        "    'input_mask': mask,\n",
        "    'input_type_ids': type_id}\n",
        "\n",
        "    bert_embeddings = bert_layer(inputs)\n",
        "\n",
        "    if mode == \"pooled\":\n",
        "        return bert_embeddings[\"pooled_output\"]\n",
        "\n",
        "    else:\n",
        "        return bert_embeddings[\"sequence_output\"]"
      ],
      "execution_count": null,
      "outputs": []
    },
    {
      "cell_type": "code",
      "metadata": {
        "id": "Vl55adCfvjt2"
      },
      "source": [
        "# text embeddings from BERT and convert to TF Dataset format\n",
        "bert_embeddings = bert_encode_modified(tokenizer, data, bert_layer, max_len=300, mode=\"sequence\")\n",
        "text_embeddings = tf.data.Dataset.from_tensor_slices(bert_embeddings)"
      ],
      "execution_count": null,
      "outputs": []
    },
    {
      "cell_type": "code",
      "metadata": {
        "id": "2Z6W85GrfT7f"
      },
      "source": [
        "# zip the inputs and labels into a single dataset\n",
        "dataset = tf.data.Dataset.zip(((text_embeddings, images), labels)).shuffle(100, reshuffle_each_iteration=False)"
      ],
      "execution_count": null,
      "outputs": []
    },
    {
      "cell_type": "code",
      "metadata": {
        "id": "AD4fhG86gldV"
      },
      "source": [
        "# split data into train and validation split\n",
        "val_split = int(bert_embeddings.shape[0] * 0.2)\n",
        "val_ds = dataset.take(val_split).batch(32)\n",
        "train_ds = dataset.skip(val_split).batch(32)"
      ],
      "execution_count": null,
      "outputs": []
    },
    {
      "cell_type": "code",
      "metadata": {
        "colab": {
          "base_uri": "https://localhost:8080/"
        },
        "id": "JRV2zxmLvnqs",
        "outputId": "935d6d99-51cc-4e89-962c-909ee973afd3"
      },
      "source": [
        "val_split"
      ],
      "execution_count": null,
      "outputs": [
        {
          "output_type": "execute_result",
          "data": {
            "text/plain": [
              "99"
            ]
          },
          "metadata": {
            "tags": []
          },
          "execution_count": 58
        }
      ]
    },
    {
      "cell_type": "code",
      "metadata": {
        "id": "nLEHhx_tOOnK"
      },
      "source": [
        "# create a new model or load an existing model and compile it\n",
        "model_folder = os.path.join(\"/content/drive/MyDrive/Fakeddit\", \"models\")\n",
        "\n",
        "if not os.path.exists(model_folder):\n",
        "  os.makedirs(model_folder)\n",
        "\n",
        "model_file = os.path.join(model_folder, \"model.h5\")\n",
        "\n",
        "if os.path.exists(model_file):\n",
        "  model = load_model\n",
        "\n",
        "else:\n",
        "  model = classification_model(bert_embeddings.shape[1], num_labels)\n",
        "model.compile(loss=\"categorical_crossentropy\", optimizer=\"adam\", metrics=\"accuracy\")"
      ],
      "execution_count": null,
      "outputs": []
    },
    {
      "cell_type": "code",
      "metadata": {
        "colab": {
          "base_uri": "https://localhost:8080/"
        },
        "id": "fhn5XWRCH_qe",
        "outputId": "2b574c95-415f-449a-a1a6-4b691e1a26d0"
      },
      "source": [
        "# train the model\n",
        "train = model.fit(train_ds, epochs=epochs, verbose=True, validation_data=val_ds)"
      ],
      "execution_count": null,
      "outputs": [
        {
          "output_type": "stream",
          "text": [
            "Epoch 1/10\n",
            "13/13 [==============================] - 15s 765ms/step - loss: 15.3908 - accuracy: 0.3431 - val_loss: 6.1282 - val_accuracy: 0.4141\n",
            "Epoch 2/10\n",
            "13/13 [==============================] - 5s 302ms/step - loss: 7.0169 - accuracy: 0.5115 - val_loss: 5.2482 - val_accuracy: 0.4242\n",
            "Epoch 3/10\n",
            "13/13 [==============================] - 5s 305ms/step - loss: 0.7989 - accuracy: 0.8924 - val_loss: 5.0802 - val_accuracy: 0.4343\n",
            "Epoch 4/10\n",
            "13/13 [==============================] - 5s 307ms/step - loss: 0.2544 - accuracy: 0.9360 - val_loss: 5.4197 - val_accuracy: 0.4444\n",
            "Epoch 5/10\n",
            "13/13 [==============================] - 5s 306ms/step - loss: 0.0383 - accuracy: 0.9853 - val_loss: 5.2019 - val_accuracy: 0.4747\n",
            "Epoch 6/10\n",
            "13/13 [==============================] - 5s 306ms/step - loss: 0.0168 - accuracy: 0.9973 - val_loss: 5.2720 - val_accuracy: 0.4646\n",
            "Epoch 7/10\n",
            "13/13 [==============================] - 5s 306ms/step - loss: 0.0090 - accuracy: 0.9995 - val_loss: 5.2966 - val_accuracy: 0.4545\n",
            "Epoch 8/10\n",
            "13/13 [==============================] - 5s 306ms/step - loss: 0.0074 - accuracy: 0.9995 - val_loss: 5.3171 - val_accuracy: 0.4646\n",
            "Epoch 9/10\n",
            "13/13 [==============================] - 5s 307ms/step - loss: 0.0074 - accuracy: 0.9995 - val_loss: 5.3327 - val_accuracy: 0.4545\n",
            "Epoch 10/10\n",
            "13/13 [==============================] - 5s 306ms/step - loss: 0.0061 - accuracy: 0.9995 - val_loss: 5.3522 - val_accuracy: 0.4747\n"
          ],
          "name": "stdout"
        }
      ]
    },
    {
      "cell_type": "code",
      "metadata": {
        "id": "pU-dxDAaKi6j"
      },
      "source": [
        "# save the model to directory\n",
        "model.save(model_file)"
      ],
      "execution_count": null,
      "outputs": []
    }
  ]
}